{
 "cells": [
  {
   "cell_type": "code",
   "execution_count": 7,
   "id": "fa48344f-bb7d-48b8-9745-812c1dd3c465",
   "metadata": {},
   "outputs": [
    {
     "name": "stdout",
     "output_type": "stream",
     "text": [
      "E\n",
      "p\n",
      "i\n",
      "c\n",
      "o\n",
      "d\n",
      "e\n"
     ]
    }
   ],
   "source": [
    "#Esercizio 1\n",
    "#Abbiamo la stringa: nome_scuola = \"Epicode\" Stampare ogni carattere della stringa, uno su ogni riga, utilizzando un costrutto while.\n",
    "\n",
    "nome_scuola = \"Epicode\"\n",
    "i = 0  # Partiamo dall'indice 0\n",
    "\n",
    "while i < len(nome_scuola):\n",
    "    print(nome_scuola[i])\n",
    "    i += 1\n",
    "\n",
    "\n"
   ]
  },
  {
   "cell_type": "code",
   "execution_count": 9,
   "id": "5a0813f5-5647-45aa-bf2c-07dff8f78921",
   "metadata": {},
   "outputs": [
    {
     "name": "stdout",
     "output_type": "stream",
     "text": [
      "0\n",
      "1\n",
      "2\n",
      "3\n",
      "4\n",
      "5\n",
      "6\n",
      "7\n",
      "8\n",
      "9\n",
      "10\n",
      "11\n",
      "12\n",
      "13\n",
      "14\n",
      "15\n",
      "16\n",
      "17\n",
      "18\n",
      "19\n",
      "20\n"
     ]
    }
   ],
   "source": [
    "#Esercizio 2\n",
    "#Stampare a video tutti i numeri da 0 a 20 utilizzando il costrutto while. \n",
    "\n",
    "numero = 0  # inizializzazione\n",
    "\n",
    "while numero <= 20: \n",
    "      print(numero)\n",
    "      numero += 1\n",
    "\n",
    "\n",
    "\n"
   ]
  },
  {
   "cell_type": "code",
   "execution_count": 13,
   "id": "8693a72a-a23d-4f35-a97d-c421a30389e5",
   "metadata": {},
   "outputs": [
    {
     "name": "stdin",
     "output_type": "stream",
     "text": [
      "Inserisci un numero 5\n"
     ]
    },
    {
     "name": "stdout",
     "output_type": "stream",
     "text": [
      "1\n",
      "2\n",
      "4\n",
      "8\n",
      "16\n"
     ]
    }
   ],
   "source": [
    "#Esercizio 4\n",
    "#Calcolare e stampare tutte le prime N potenze di 2 utilizzando un ciclo while, domandando all'utente di inserire N.\n",
    "\n",
    "num = 2\n",
    "N = int(input(\"Inserisci un numero\"))\n",
    "potenza = 0 \n",
    "while potenza < N:\n",
    "      risultato = pow(num, potenza)\n",
    "      print(risultato)\n",
    "      potenza +=1\n"
   ]
  },
  {
   "cell_type": "code",
   "execution_count": 15,
   "id": "bc41c139-a92d-4ff0-bfaf-cbabf9893182",
   "metadata": {},
   "outputs": [
    {
     "name": "stdout",
     "output_type": "stream",
     "text": [
      "1\n",
      "2\n",
      "4\n",
      "8\n",
      "16\n",
      "32\n",
      "64\n",
      "128\n",
      "256\n",
      "512\n",
      "1024\n",
      "2048\n",
      "4096\n"
     ]
    }
   ],
   "source": [
    "#Esercizio 5\n",
    "#Calcolare e stampare tutte le potenze di 2 minori di 25000.\n",
    "\n",
    "num = 2\n",
    "potenza = 0 #inizializzazione\n",
    "risultato = 0 #inizializzazione\n",
    "while risultato < 2500:\n",
    "      risultato = pow(num, potenza)\n",
    "      print(risultato)\n",
    "      potenza +=1\n",
    "\n"
   ]
  },
  {
   "cell_type": "code",
   "execution_count": 19,
   "id": "5bc0c3f7-e443-4439-becf-bc6fd62e2dd5",
   "metadata": {},
   "outputs": [
    {
     "name": "stdout",
     "output_type": "stream",
     "text": [
      "- E\n",
      "- p\n",
      "- i\n",
      "- c\n",
      "- o\n",
      "- d\n",
      "- e\n"
     ]
    }
   ],
   "source": [
    "#Esercizio 8\n",
    "#Abbiamo la stringa: nome_scuola = \"Epicode\".\n",
    "#Stampare ogni carattere della stringa, uno su ogni riga, utilizzando un costrutto for.\n",
    "\n",
    "nome_scuola = \"Epicode\"\n",
    "for lettera in nome_scuola:\n",
    "    print(\"-\", lettera)\n"
   ]
  },
  {
   "cell_type": "code",
   "execution_count": 21,
   "id": "a22efacc-e40f-4fac-bc37-b9deb63d6aeb",
   "metadata": {},
   "outputs": [
    {
     "name": "stdout",
     "output_type": "stream",
     "text": [
      "1\n",
      "2\n",
      "4\n",
      "8\n",
      "16\n",
      "32\n",
      "64\n",
      "128\n",
      "256\n",
      "512\n"
     ]
    }
   ],
   "source": [
    "#Esercizio 9\n",
    "#Calcolare e stampare tutte le prime 10 potenze di 2 utilizzando un ciclo.\n",
    "\n",
    "num = 2\n",
    "potenze = (0, 1, 2, 3, 4, 5, 6, 7, 8, 9)\n",
    "for potenza in potenze:\n",
    "    print(pow(num, potenza))\n",
    "\n",
    "#oppure \n",
    "\n",
    "num = 2\n",
    "for potenza in range(10):\n",
    "    print(pow(num, potenza))\n",
    "\n"
   ]
  },
  {
   "cell_type": "code",
   "execution_count": 25,
   "id": "08c67072-d536-4271-8270-9b269369212d",
   "metadata": {},
   "outputs": [
    {
     "name": "stdin",
     "output_type": "stream",
     "text": [
      "Inserisci un numero per la base della potenza 6\n",
      "Inserisci un numero per quante potenze calcolare 7\n"
     ]
    },
    {
     "name": "stdout",
     "output_type": "stream",
     "text": [
      "[279936, 279936, 279936, 279936, 279936, 279936, 279936]\n"
     ]
    }
   ],
   "source": [
    "#Esercizio 10\n",
    "#Calcolare (ma non stampare) le prime N potenze di K; ognuna di esse andrà memorizzata in coda a una lista. Alla fine, stampare la lista risultante. \n",
    "#Proviamo con diversi valori di K, oppure facciamola inserire all'utente.\n",
    "\n",
    "#METODO WHILE\n",
    "\n",
    "K = int(input(\"Inserisci un numero per la base della potenza\"))\n",
    "N = int(input(\"Inserisci un numero per quante potenze calcolare\"))\n",
    "contatore = 0 #inizializzazione\n",
    "lista_risultati = []\n",
    "while contatore < N:\n",
    "      risultato = pow(K, N)\n",
    "      lista_risultati.append(risultato)\n",
    "      contatore +=1\n",
    "print(lista_risultati)\n",
    "\n",
    "#METODO FOR\n",
    "\n",
    "K = int(input(\"Inserisci un numero per la base della potenza\"))\n",
    "N = int(input(\"Inserisci un numero per quante potenze calcolare\"))\n",
    "lista_risultato = []\n",
    "for potenza in range(N):\n",
    "    risultato = pow(K, potenza)\n",
    "    lista_risultato.append(risultato)\n",
    "\n",
    "print(lista_risultato)\n",
    "\n"
   ]
  },
  {
   "cell_type": "code",
   "execution_count": 29,
   "id": "84135a52-8044-47ed-81d0-3e121c14cc04",
   "metadata": {},
   "outputs": [
    {
     "name": "stdout",
     "output_type": "stream",
     "text": [
      "La media dei guadagni è: 8.333333333333334\n",
      "La media dei guadagni è: 15.833333333333334\n",
      "La media dei guadagni è: 21.666666666666668\n",
      "La media dei guadagni è: 25.0\n",
      "La media dei guadagni è: 29.166666666666668\n",
      "La media dei guadagni è: 35.833333333333336\n",
      "La media dei guadagni è: 43.333333333333336\n",
      "La media dei guadagni è: 53.333333333333336\n",
      "La media dei guadagni è: 60.0\n",
      "La media dei guadagni è: 61.666666666666664\n",
      "La media dei guadagni è: 65.83333333333333\n",
      "La media dei guadagni è: 70.0\n"
     ]
    }
   ],
   "source": [
    "#Esercizio 11\n",
    "#Abbiamo una lista con i guadagni degli ultimi 12 mesi: guadagni = [100, 90, 70, 40, 50, 80, 90, 120, 80, 20, 50, 50] usando un costrutto for, calcolare la media dei guadagni e stamparla a video.\n",
    "\n",
    "guadagni = [100, 90, 70, 40, 50, 80, 90, 120, 80, 20, 50, 50]\n",
    "somma = 0 # inizializzazione\n",
    "for guadagno in guadagni:\n",
    "    somma += guadagno #aggiungiamo ogni guadagno alla somma, cioè sommiamo i guadagni uno alla volta\n",
    "    media = somma/len(guadagni)\n",
    "    print(\"La media dei guadagni è:\", media)\n",
    "    "
   ]
  },
  {
   "cell_type": "code",
   "execution_count": 33,
   "id": "5fa805ed-400c-4fc8-b121-b4a5f4e4360b",
   "metadata": {},
   "outputs": [
    {
     "name": "stdout",
     "output_type": "stream",
     "text": [
      "Nella parola Albergo la lettera e appare 1 volte\n",
      "Nella parola Sedia la lettera e appare 1 volte\n",
      "Nella parola Borgo la lettera e appare 0 volte\n",
      "Nella parola Petalo la lettera e appare 1 volte\n",
      "Nella parola Eremo la lettera e appare 2 volte\n",
      "Nella parola Belvedere la lettera e appare 4 volte\n",
      "Nella parola Semestre la lettera e appare 3 volte\n",
      "Nella parola Esteta la lettera e appare 2 volte\n",
      "Nella parola Sosta la lettera e appare 0 volte\n",
      "Nella parola Orpello la lettera e appare 1 volte\n",
      "Nella parola Abete la lettera e appare 2 volte\n",
      "Nella parola Orologio la lettera e appare 0 volte\n",
      "Nella parola Cesta la lettera e appare 1 volte\n",
      "Nella parola Ermellino la lettera e appare 2 volte\n"
     ]
    }
   ],
   "source": [
    "#Esercizio 12\n",
    "#Abbiamo una lista di parole: parole = [\"Albergo\", \"Sedia\", \"Borgo\", \"Petalo\", \"Eremo\", \"Belvedere\", \"Semestre\", \"Esteta\", \"Sosta\", \"Orpello\", \"Abete\", \"Orologio\", \"Cesta\", \"Ermellino\"].\n",
    "#Stampiamo, per ogni parola, quante volte appare la lettera \"e\"; facciamo attenzione al fatto che appare sia maiuscola che minuscola.\n",
    "\n",
    "parole = [\"Albergo\", \"Sedia\", \"Borgo\", \"Petalo\", \"Eremo\", \"Belvedere\", \"Semestre\", \"Esteta\", \"Sosta\", \"Orpello\", \"Abete\", \"Orologio\", \"Cesta\", \"Ermellino\"]\n",
    "lettera = \"e\"\n",
    "for parola in parole:\n",
    "    conteggio = parola.lower().count(lettera)\n",
    "    print(\"Nella parola\", parola, \"la lettera\", lettera, \"appare\", conteggio, \"volte\")\n",
    "\n"
   ]
  },
  {
   "cell_type": "code",
   "execution_count": 37,
   "id": "6dfe764b-8c5f-44f3-b78d-d0603cfb730d",
   "metadata": {},
   "outputs": [
    {
     "name": "stdout",
     "output_type": "stream",
     "text": [
      "{'Ada': 'Punto', 'Ben': 'Multipla', 'Charlie': 'Golf', 'Debbie': '107'}\n",
      "107\n"
     ]
    }
   ],
   "source": [
    "#Esercizio 13\n",
    "#Creiamo un dizionario che assegni ad ogni proprietario la sua auto, sapendo che: \n",
    "#Ada guida una Punto \n",
    "#Ben guida una Multipla \n",
    "#Charlie guida una Golf \n",
    "#Debbie guida una 107 \n",
    "#Stampiamo il dizionario per intero, e poi l'auto associata a Debbie.\n",
    "\n",
    "dizionario = {\"Ada\": \"Punto\",\n",
    "\t      \"Ben\": \"Multipla\",\n",
    "              \"Charlie\": \"Golf\",\n",
    "              \"Debbie\": \"107\"}\n",
    "print(dizionario)\n",
    "print(dizionario[\"Debbie\"])\n",
    "      "
   ]
  },
  {
   "cell_type": "code",
   "execution_count": null,
   "id": "3402cda0-bb76-47bb-bdd7-7a8f0ce835ca",
   "metadata": {},
   "outputs": [],
   "source": [
    "#Esercizio 14\n",
    "#Abbiamo un dizionario che assegna ad ogni proprietario la sua auto: dizionario_auto = {\"Ada\": \"Punto\", \"Ben\": \"Multipla\", \"Charlie\": \"Golf\", \"Debbie\": \"107\"}.\n",
    "#Con un ciclo, e usando il metodo .values(), stampiamo a video tutte le auto che non sono una Multipla.\n",
    "\n",
    "dizionario_auto = {\"Ada\": \"Punto\", \"Ben\": \"Multipla\", \"Charlie\": \"Golf\", \"Debbie\": \"107\"}\n",
    "for auto in dizionario_auto.values():\n",
    "    if auto != \"Multipla\":\n",
    "        print(auto)\n",
    "\n"
   ]
  },
  {
   "cell_type": "code",
   "execution_count": 43,
   "id": "631ae6d5-5f18-4e2d-b2ff-61b265515431",
   "metadata": {},
   "outputs": [
    {
     "name": "stdout",
     "output_type": "stream",
     "text": [
      "{'Ada': 'Punto', 'Ben': 'Polo', 'Charlie': 'Golf', 'Debbie': '107', 'Emily': 'A1', 'Fred': 'Octavia', 'Grace': 'Yaris', 'Hugh': 'Clio'}\n"
     ]
    }
   ],
   "source": [
    "#Esercizio 15\n",
    "#Abbiamo due dizionari che assegnano ad ogni proprietario la propria auto: dizionario_auto = {\"Ada\": \"Punto\", \"Ben\": \"Multipla\", \"Charlie\": \"Golf\", \"Debbie\": \"107\", \"Emily\": \"A1\"} nuovi_proprietari = {\"Ben\": \"Polo\", \"Fred\": \"Octavia\", \"Grace\": \"Yaris\", \"Hugh\": \"Clio\"}.\n",
    "#Aggiornare il dizionario dizionario_auto con i dati contenuti in nuovi_proprietari e stamparlo. Cosa è successo a Ben?\n",
    "\n",
    "dizionario_auto = {\"Ada\": \"Punto\", \"Ben\": \"Multipla\", \"Charlie\": \"Golf\", \"Debbie\": \"107\", \"Emily\": \"A1\"} \n",
    "nuovi_proprietari = {\"Ben\": \"Polo\", \"Fred\": \"Octavia\", \"Grace\": \"Yaris\", \"Hugh\": \"Clio\"}\n",
    "\n",
    "dizionario_auto.update(nuovi_proprietari)\n",
    "print(dizionario_auto)"
   ]
  }
 ],
 "metadata": {
  "kernelspec": {
   "display_name": "Python [conda env:base] *",
   "language": "python",
   "name": "conda-base-py"
  },
  "language_info": {
   "codemirror_mode": {
    "name": "ipython",
    "version": 3
   },
   "file_extension": ".py",
   "mimetype": "text/x-python",
   "name": "python",
   "nbconvert_exporter": "python",
   "pygments_lexer": "ipython3",
   "version": "3.12.7"
  }
 },
 "nbformat": 4,
 "nbformat_minor": 5
}
