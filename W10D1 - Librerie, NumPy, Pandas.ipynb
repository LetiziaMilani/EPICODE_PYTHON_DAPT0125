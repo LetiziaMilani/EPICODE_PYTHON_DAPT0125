{
 "cells": [
  {
   "cell_type": "code",
   "execution_count": null,
   "id": "2c3a5c17-7f8d-44f5-994d-a704d1ef13d4",
   "metadata": {},
   "outputs": [],
   "source": [
    "#Esercizio1\n",
    "#L'azienda Object SpA ha creato una lista di quanti oggetti ha venduto ogni mese nell'ultimo anno: \n",
    "#lst = [2000, 5500, 7200, 4320, 1280, 1900, 2500, 3900, 6410, 8150, 7100, 5350] \n",
    "#trasformiamola in un array NumPy (casting): lst = np.array(lst) e rispondiamo alle domande del CEO della Object SpA: \n",
    "#qual è stata la vendita massima mensile? E quella minima?\n",
    "#quali sono le vendite mensili maggiori di 5000 oggetti?\n",
    "#E quante ne sono?\n",
    "#quali sono le vendite minori di 3000 oggetti?"
   ]
  },
  {
   "cell_type": "code",
   "execution_count": 5,
   "id": "daddcf1a-d386-40ab-9f26-d3e35587295b",
   "metadata": {},
   "outputs": [],
   "source": [
    "import numpy as np"
   ]
  },
  {
   "cell_type": "code",
   "execution_count": 9,
   "id": "4a4748d7-eebc-4d29-a899-7acf70f1848e",
   "metadata": {},
   "outputs": [],
   "source": [
    "lst = [2000, 5500, 7200, 4320, 1280, 1900, 2500, 3900, 6410, 8150, 7100, 5350]"
   ]
  },
  {
   "cell_type": "code",
   "execution_count": 11,
   "id": "067eb945-b235-4f34-9fd8-090ef598204f",
   "metadata": {},
   "outputs": [],
   "source": [
    "#trasformo la lista in un array \n",
    "lst = np.array(lst)"
   ]
  },
  {
   "cell_type": "code",
   "execution_count": 13,
   "id": "4d3ecc7c-c0e6-42ef-a8f0-e6b1f966b0f4",
   "metadata": {},
   "outputs": [
    {
     "data": {
      "text/plain": [
       "8150"
      ]
     },
     "execution_count": 13,
     "metadata": {},
     "output_type": "execute_result"
    }
   ],
   "source": [
    "#calcolo la vendita massima \n",
    "vendita_massima = np.max(lst)\n",
    "vendita_massima"
   ]
  },
  {
   "cell_type": "code",
   "execution_count": 15,
   "id": "a49965c6-6f73-4aae-8fe2-686a9a30e172",
   "metadata": {},
   "outputs": [
    {
     "data": {
      "text/plain": [
       "1280"
      ]
     },
     "execution_count": 15,
     "metadata": {},
     "output_type": "execute_result"
    }
   ],
   "source": [
    "#calcolo la vendita minima\n",
    "vendita_minima = np.min(lst)\n",
    "vendita_minima"
   ]
  },
  {
   "cell_type": "code",
   "execution_count": 17,
   "id": "85e8f095-35e1-4102-8ac7-d741938d247c",
   "metadata": {},
   "outputs": [
    {
     "data": {
      "text/plain": [
       "array([5500, 7200, 6410, 8150, 7100, 5350])"
      ]
     },
     "execution_count": 17,
     "metadata": {},
     "output_type": "execute_result"
    }
   ],
   "source": [
    "#calcolo le vendite maggiori di 5000\n",
    "vendite_maggiori_5000 = lst[lst > 5000]\n",
    "vendite_maggiori_5000"
   ]
  },
  {
   "cell_type": "code",
   "execution_count": 23,
   "id": "594284b8-d493-49cc-83bb-261775030989",
   "metadata": {},
   "outputs": [
    {
     "data": {
      "text/plain": [
       "6"
      ]
     },
     "execution_count": 23,
     "metadata": {},
     "output_type": "execute_result"
    }
   ],
   "source": [
    "#conto quante sono le vendite maggiori di 5000\n",
    "vendite_maggiori_5000.size"
   ]
  },
  {
   "cell_type": "code",
   "execution_count": 25,
   "id": "9cdbdfc5-cce1-40c7-809f-97e7b7e2504c",
   "metadata": {},
   "outputs": [
    {
     "data": {
      "text/plain": [
       "array([2000, 1280, 1900, 2500])"
      ]
     },
     "execution_count": 25,
     "metadata": {},
     "output_type": "execute_result"
    }
   ],
   "source": [
    "#calcolo le vendite minori di 3000\n",
    "vendite_minori_3000 = lst[lst < 3000]\n",
    "vendite_minori_3000"
   ]
  },
  {
   "cell_type": "code",
   "execution_count": 27,
   "id": "e5736e4f-9276-40bc-ad79-698f1ed7e17e",
   "metadata": {},
   "outputs": [
    {
     "data": {
      "text/plain": [
       "4"
      ]
     },
     "execution_count": 27,
     "metadata": {},
     "output_type": "execute_result"
    }
   ],
   "source": [
    "#conto quante sono le vendite minori di 3000\n",
    "vendite_minori_3000.size"
   ]
  },
  {
   "cell_type": "code",
   "execution_count": 29,
   "id": "9edc16af-233e-4a02-b1a4-a6011407ef57",
   "metadata": {},
   "outputs": [
    {
     "data": {
      "text/plain": [
       "4634.166666666667"
      ]
     },
     "execution_count": 29,
     "metadata": {},
     "output_type": "execute_result"
    }
   ],
   "source": [
    "#calcolo la media di quanti oggetti sono stati venduti al mese\n",
    "media_oggetti_venduti = np.mean(lst)\n",
    "media_oggetti_venduti"
   ]
  },
  {
   "cell_type": "code",
   "execution_count": 31,
   "id": "637e721c-c245-4421-91ab-d6dca3665892",
   "metadata": {},
   "outputs": [],
   "source": [
    "#Esercizio 3\n",
    "#L'azienda Object SpA ha un dataset con tutti gli stipendi dei dipendenti, memorizzato in un ndarray: \n",
    "#import numpy as np \n",
    "#stipendi = np.array( [100, 200, 300, 400, 500, 600, 700, 800, 900, 1000] ) \n",
    "#L'azienda ci chiede di raddoppiare tutti gli stipendi; facciamolo in due modi:\n",
    "#con un ciclo for\n",
    "#con il masking\n",
    "\n"
   ]
  },
  {
   "cell_type": "code",
   "execution_count": 33,
   "id": "da5f24d9-97dc-4663-8a05-00dc7f2883b4",
   "metadata": {},
   "outputs": [],
   "source": [
    "import numpy as np\n",
    "stipendi = np.array( [100, 200, 300, 400, 500, 600, 700, 800, 900, 1000] ) "
   ]
  },
  {
   "cell_type": "code",
   "execution_count": 43,
   "id": "0b7c7ba4-3035-49fa-9491-f7f5b3ac187c",
   "metadata": {},
   "outputs": [
    {
     "name": "stdout",
     "output_type": "stream",
     "text": [
      "[200, 400, 600, 800, 1000, 1200, 1400, 1600, 1800, 2000]\n"
     ]
    }
   ],
   "source": [
    "#CICLO FOR\n",
    "stipendi_raddoppiati_for = []\n",
    "for stipendio in stipendi:\n",
    "    stipendio_raddoppiato = stipendio * 2\n",
    "    stipendi_raddoppiati_for.append(stipendio_raddoppiato)\n",
    "    \n",
    "print(stipendi_raddoppiati_for)\n"
   ]
  },
  {
   "cell_type": "code",
   "execution_count": 49,
   "id": "a42eb833-86b5-495b-8036-54258c883b50",
   "metadata": {},
   "outputs": [
    {
     "name": "stdout",
     "output_type": "stream",
     "text": [
      "[ 200  400  600  800 1000 1200 1400 1600 1800 2000]\n"
     ]
    }
   ],
   "source": [
    "#MASKING\n",
    "stipendi_raddoppiati_masking = stipendi * 2\n",
    "print(stipendi_raddoppiati_masking)"
   ]
  },
  {
   "cell_type": "code",
   "execution_count": null,
   "id": "a9c4b96b-0bd6-42c9-976d-5e516d2c9e32",
   "metadata": {},
   "outputs": [],
   "source": [
    "#Esercizio4\n",
    "#Scrivere un programma che, data una lista di numeri, fornisca in output i tre numeri più grandi; gestire il caso in cui la lista sia più corta di tre, \n",
    "#e quando uno o più dei numeri selezionati sono uguali."
   ]
  },
  {
   "cell_type": "code",
   "execution_count": 142,
   "id": "9ec80bf6-eca4-429d-9677-7a949ac5394f",
   "metadata": {},
   "outputs": [
    {
     "name": "stdout",
     "output_type": "stream",
     "text": [
      "I massimi sono: [100, 90, 70]\n"
     ]
    }
   ],
   "source": [
    "numeri = [10, 20, 50, 70, 90, 100]\n",
    "lunghezza_lista = len(numeri)\n",
    "if lunghezza_lista <=3:\n",
    "    print(\"I massimi sono:\", numeri)\n",
    "else:\n",
    "    numeeri = set(numeri) #trasformo la lista in un set per eliminare i duplicati. I set non ammettono valori duplicati\n",
    "    numeri = list(numeri) #trasformo poi nuovamente il set in una lista dato che il set non è ordinato, mentre la lista sì\n",
    "    numeri.sort(reverse=True)\n",
    "    print(\"I massimi sono:\", numeri[:3])"
   ]
  },
  {
   "cell_type": "code",
   "execution_count": null,
   "id": "c2e06948-8034-40e0-a493-6a63be79ce0c",
   "metadata": {},
   "outputs": [],
   "source": [
    "#Esercizio 5\n",
    "#Scrivere un programma che:\n",
    "#in input acquisisce una lista di numeri e un numero K\n",
    "#in output, dovrà restituire la media di tutti i numeri nella lista maggiori o uguali a K\n",
    "#se non ce ne dovesse essere nessuno, dovrà stampare a schermo un messaggio adeguato."
   ]
  },
  {
   "cell_type": "code",
   "execution_count": 99,
   "id": "a9e972b4-249b-44df-9550-57dd379ebd10",
   "metadata": {},
   "outputs": [
    {
     "name": "stdin",
     "output_type": "stream",
     "text": [
      "Inserisci i numeri separati da virgola 10, 20, 30, 40, 50\n",
      "Inserisci un numero 15\n"
     ]
    },
    {
     "name": "stdout",
     "output_type": "stream",
     "text": [
      "La media dei numeri maggiori o uguali a 15 è: 35.0\n"
     ]
    }
   ],
   "source": [
    "lista_input = input(\"Inserisci i numeri separati da virgola\")\n",
    "numeri = [int(x.strip()) for x in lista_input.split(\",\")]\n",
    "K = int(input(\"Inserisci un numero\"))\n",
    "\n",
    "numeri_maggiori_K = []\n",
    "for numero in numeri:\n",
    "    if numero >= K:\n",
    "        numeri_maggiori_K.append(numero)\n",
    "\n",
    "if numeri_maggiori_K:\n",
    "    media_numeri_maggiori_K = sum(numeri_maggiori_K) / len(numeri_maggiori_K)\n",
    "    print(\"La media dei numeri maggiori o uguali a\", K, \"è:\", media_numeri_maggiori_K)\n",
    "else:\n",
    "    print(\"Nessun numero maggiore o uguale a\", K)"
   ]
  },
  {
   "cell_type": "code",
   "execution_count": 144,
   "id": "7b2305f4-fe8f-4ed6-8911-8a2101b1c1dd",
   "metadata": {},
   "outputs": [
    {
     "name": "stdout",
     "output_type": "stream",
     "text": [
      "La media dei numeri maggiori di 30 è: 60.0\n"
     ]
    }
   ],
   "source": [
    "#Soluzione alternativa senza ulizzo ciclo FOR\n",
    "numeri = [30, 50, 10, 60, 20, 100]\n",
    "K = 30\n",
    "\n",
    "numeri = np.array(numeri) #casting\n",
    "filtro = numeri >= K\n",
    "selezione = numeri[filtro]\n",
    "if len(selezione) > 0:\n",
    "    media_numeri_selezione = selezione.mean()\n",
    "    print(\"La media dei numeri maggiori di\", K, \"è:\", media_numeri_selezione)\n",
    "else:\n",
    "    print(\"Non ci sono numeri maggiori o uguali a\", K)\n"
   ]
  },
  {
   "cell_type": "code",
   "execution_count": 150,
   "id": "aa772a9e-4895-4b0d-88b2-7de70d174ef7",
   "metadata": {},
   "outputs": [
    {
     "name": "stdin",
     "output_type": "stream",
     "text": [
      "Inserisci i numeri separati da virgola 5, 4, 3, 2\n"
     ]
    },
    {
     "name": "stdout",
     "output_type": "stream",
     "text": [
      "***** 5\n",
      "**** 4\n",
      "*** 3\n",
      "** 2\n"
     ]
    }
   ],
   "source": [
    "#Esercizio 6\n",
    "#Scrivere un programma che, data una lista di numeri, come output stamperà lo stesso numero di asterischi su righe diverse, ottenendo una semplice visualizzazione grafica\n",
    "lista_input = input(\"Inserisci i numeri separati da virgola\")\n",
    "numeri = [int(x.strip()) for x in lista_input.split(\",\")]\n",
    "\n",
    "for numero in numeri:\n",
    "    print(\"*\" * numero, numero)\n"
   ]
  },
  {
   "cell_type": "code",
   "execution_count": 109,
   "id": "3001db02-7fba-4225-9e4c-da56168293c1",
   "metadata": {},
   "outputs": [
    {
     "name": "stdout",
     "output_type": "stream",
     "text": [
      "['ABCDEF95G01A123B', 'STUVWX95Z04A654E', 'DEFGHI95J06A987G']\n",
      "Codice: ABCDEF95G01A123B Cognome: ABC Nome DEF\n",
      "Codice: STUVWX95Z04A654E Cognome: STU Nome VWX\n",
      "Codice: DEFGHI95J06A987G Cognome: DEF Nome GHI\n"
     ]
    }
   ],
   "source": [
    "#Esercizio 7\n",
    "#Abbiamo una lista di codici fiscali: \n",
    "#lista_cf = [\"ABCDEF95G01A123B\", \"GHIJKL91M02A321C\", \"MNOPQR89S03A456D\", \"STUVWX95Z04A654E\", \"XYZABC01D05A789F\", \"DEFGHI95J06A987G\"]\n",
    "#trovare i codici fiscali che contengono \"95\", metterli in una lista, e alla fine stamparla;\n",
    "#inoltre, per ognuno di essi, stampare a video i caratteri relativi al nome e quelli relativi al cognome\n",
    "\n",
    "lista_cf = [\"ABCDEF95G01A123B\", \"GHIJKL91M02A321C\", \"MNOPQR89S03A456D\", \"STUVWX95Z04A654E\", \"XYZABC01D05A789F\", \"DEFGHI95J06A987G\"]\n",
    "\n",
    "codici_con_95 = []\n",
    "for codice in lista_cf:\n",
    "    if \"95\" in codice:\n",
    "        codici_con_95.append(codice)\n",
    "print(codici_con_95)\n",
    "\n",
    "for codice_con_95 in codici_con_95:\n",
    "    cognome = codice_con_95[0:3]\n",
    "    nome = codice_con_95[3:6]\n",
    "    print(\"Codice:\", codice_con_95, \"Cognome:\", cognome, \"Nome\", nome)\n",
    "    \n"
   ]
  },
  {
   "cell_type": "code",
   "execution_count": null,
   "id": "00238040-07c8-49e0-9acc-78a7cabd6c73",
   "metadata": {},
   "outputs": [],
   "source": [
    "#Esercizio 8\n",
    "#Abbiamo tre liste della stessa lunghezza, dove ogni elemento nella medesima posizione si riferisce ai dati dello stesso studente:\n",
    "#studenti = [\"Alex\", \"Bob\", \"Cindy\", \"Dan\", \"Emma\", \"Faith\", \"Grace\", \"Henry\"]\n",
    "#corsi = [\"Cybersecurity\", \"Data Analyst\", \"Backend\", \"Frontend\", \"Data Analyst\", \"Backend\", \"Frontend\", \"Cybersecurity\"]\n",
    "#edizioni = [1, 2, 3, 2, 2, 1, 3, 3]\n",
    "#Stampare a video tutti e soli gli studenti che frequentano una prima edizione; non tutti i dati potrebbero essere necessari."
   ]
  },
  {
   "cell_type": "code",
   "execution_count": 168,
   "id": "685b9371-97a3-4c65-b724-5a0433d14072",
   "metadata": {},
   "outputs": [
    {
     "name": "stdout",
     "output_type": "stream",
     "text": [
      "Alex\n",
      "Faith\n"
     ]
    }
   ],
   "source": [
    "studenti = [\"Alex\", \"Bob\", \"Cindy\", \"Dan\", \"Emma\", \"Faith\", \"Grace\", \"Henry\"]\n",
    "corsi = [\"Cybersecurity\", \"Data Analyst\", \"Backend\", \"Frontend\", \"Data Analyst\", \"Backend\", \"Frontend\", \"Cybersecurity\"]\n",
    "edizioni = [1, 2, 3, 2, 2, 1, 3, 3]\n",
    "lunghezza = len(studenti)\n",
    "for indice in range(lunghezza):  \n",
    "    studente = studenti[indice]\n",
    "    edizione = edizioni[indice]\n",
    "    if edizione == 1:\n",
    "        print(studente)\n",
    "\n"
   ]
  },
  {
   "cell_type": "code",
   "execution_count": null,
   "id": "7bbd2f60-8c4e-4c5b-9d88-db473eb49f02",
   "metadata": {},
   "outputs": [],
   "source": [
    "#Esercizio 9\n",
    "#Abbiamo una lista di stringhe di prezzi in dollari, che erroneamente sono stati scritti con il simbolo dell'euro: \n",
    "#prezzi = [\"100 €\", \"200 €\", \"500 €\", \"10 €\", \"50 €\", \"70 €\"] \n",
    "#cambiare il simbolo dell'euro (€) in quello del dollaro ($) per ogni stringa nella lista; il risultato sarà memorizzato in un'altra lista."
   ]
  },
  {
   "cell_type": "code",
   "execution_count": 116,
   "id": "c6dc8caa-b12c-4c65-a765-20d7898a59b4",
   "metadata": {},
   "outputs": [
    {
     "name": "stdout",
     "output_type": "stream",
     "text": [
      "['100 $', '200 $', '500 $', '10 $', '50 $', '70 $']\n"
     ]
    }
   ],
   "source": [
    "prezzi = [\"100 €\", \"200 €\", \"500 €\", \"10 €\", \"50 €\", \"70 €\"]\n",
    "\n",
    "prezzi_dollaro = []\n",
    "for prezzo in prezzi:\n",
    "    prezzo_dollaro = prezzo.replace(\"€\", \"$\")\n",
    "    prezzi_dollaro.append(prezzo_dollaro)\n",
    "\n",
    "print(prezzi_dollaro)\n"
   ]
  },
  {
   "cell_type": "code",
   "execution_count": null,
   "id": "fdfb095a-a965-460a-9193-6b77d30bcb9e",
   "metadata": {},
   "outputs": [],
   "source": [
    "#Esercizio 10\n",
    "#Abbiamo una lista di studenti: \n",
    "#studenti = [\"Alex\", \"Bob\", \"Cindy\", \"Dan\", \"Emma\", \"Faith\", \"Grace\", \"Henry\", \"Isabelle\", \"John\"] \n",
    "#vogliamo dividere gli studenti in due squadre per un campionato di Uno nel seguente modo: \n",
    "#selezioneremo i nomi in posizione pari per un squadra, e i nomi in posizione dispari per l'altra. \n",
    "#Creiamo due liste per ogni squadra, e alla fine visualizziamole."
   ]
  },
  {
   "cell_type": "code",
   "execution_count": 122,
   "id": "b15ca58d-ab84-4418-ba9a-70162a7577a2",
   "metadata": {},
   "outputs": [
    {
     "name": "stdout",
     "output_type": "stream",
     "text": [
      "Gli studenti pari sono: ['Alex', 'Cindy', 'Emma', 'Grace', 'Isabelle']\n",
      "Gli studenti dispari sono: ['Bob', 'Dan', 'Faith', 'Henry', 'John']\n"
     ]
    }
   ],
   "source": [
    "studenti = [\"Alex\", \"Bob\", \"Cindy\", \"Dan\", \"Emma\", \"Faith\", \"Grace\", \"Henry\", \"Isabelle\", \"John\"] \n",
    "\n",
    "studenti_pari = []\n",
    "studenti_dispari = []\n",
    "for i in range(len(studenti)):\n",
    "    if i % 2 == 0:\n",
    "        studente_pari = studenti[i]\n",
    "        studenti_pari.append(studente_pari)\n",
    "    else:\n",
    "        studente_dispari = studenti[i]\n",
    "        studenti_dispari.append(studente_dispari)\n",
    "print(\"Gli studenti pari sono:\", studenti_pari)\n",
    "print(\"Gli studenti dispari sono:\", studenti_dispari)\n",
    "        "
   ]
  },
  {
   "cell_type": "code",
   "execution_count": 180,
   "id": "5ba2936e-0350-4f75-afe0-b0229c71c068",
   "metadata": {},
   "outputs": [
    {
     "data": {
      "text/plain": [
       "['Alex', 'Cindy', 'Emma', 'Grace', 'Isabelle']"
      ]
     },
     "execution_count": 180,
     "metadata": {},
     "output_type": "execute_result"
    }
   ],
   "source": [
    "#Soluzione alternativa\n",
    "studenti = [\"Alex\", \"Bob\", \"Cindy\", \"Dan\", \"Emma\", \"Faith\", \"Grace\", \"Henry\", \"Isabelle\", \"John\"] \n",
    "studenti[0::2]"
   ]
  },
  {
   "cell_type": "code",
   "execution_count": 172,
   "id": "3929eba7-4243-4cc7-8d3c-9e053bc3af3c",
   "metadata": {},
   "outputs": [
    {
     "data": {
      "text/plain": [
       "['Bob', 'Dan', 'Faith', 'Henry', 'John']"
      ]
     },
     "execution_count": 172,
     "metadata": {},
     "output_type": "execute_result"
    }
   ],
   "source": [
    "studenti[1::2]"
   ]
  },
  {
   "cell_type": "code",
   "execution_count": null,
   "id": "bfcc8607-42c7-4ae3-87ae-9bdc2aa8b329",
   "metadata": {},
   "outputs": [],
   "source": [
    "#Esercizio 11\n",
    "#Abbiamo una lista con i guadagni degli ultimi 12 mesi (supponiamo da Gennaio a Dicembre): \n",
    "#guadagni = [100, 90, 70, 40, 50, 80, 90, 120, 80, 20, 50, 50] \n",
    "#dobbiamo confrontare, stampando tutto a video, il guadagno di ogni mese con la media dei guadagni precedenti, e specificare nell'output se il guadagno attuale è maggiore o minore della media dei precedenti."
   ]
  },
  {
   "cell_type": "code",
   "execution_count": 196,
   "id": "6fbf3bae-5741-4f1c-adbf-8dfb4bb3f054",
   "metadata": {},
   "outputs": [
    {
     "name": "stdout",
     "output_type": "stream",
     "text": [
      "Mese 1: 100\n",
      "Mese 2: 90 (media precedente: 100.0 - minore)\n",
      "Mese 3: 70 (media precedente: 95.0 - minore)\n",
      "Mese 4: 40 (media precedente: 86.66666666666667 - minore)\n",
      "Mese 5: 50 (media precedente: 75.0 - minore)\n",
      "Mese 6: 80 (media precedente: 70.0 - maggiore)\n",
      "Mese 7: 90 (media precedente: 71.66666666666667 - maggiore)\n",
      "Mese 8: 120 (media precedente: 74.28571428571429 - maggiore)\n",
      "Mese 9: 80 (media precedente: 80.0 - maggiore)\n",
      "Mese 10: 20 (media precedente: 80.0 - minore)\n",
      "Mese 11: 50 (media precedente: 74.0 - minore)\n",
      "Mese 12: 50 (media precedente: 71.81818181818181 - minore)\n"
     ]
    }
   ],
   "source": [
    "guadagni = [100, 90, 70, 40, 50, 80, 90, 120, 80, 20, 50, 50]\n",
    "conteggio = 1\n",
    "somma = 0\n",
    "for guadagno in guadagni:\n",
    "    if conteggio == 1:\n",
    "        print(f\"Mese {conteggio}: {guadagno}\")\n",
    "    else:\n",
    "        if guadagno < media:\n",
    "            print(f\"Mese {conteggio}: {guadagno} (media precedente: {media} - minore)\")\n",
    "        else:\n",
    "            print(f\"Mese {conteggio}: {guadagno} (media precedente: {media} - maggiore)\")\n",
    "    somma += guadagno\n",
    "    media = somma / conteggio\n",
    "    conteggio += 1"
   ]
  },
  {
   "cell_type": "code",
   "execution_count": null,
   "id": "d2b02277-16e3-4f44-ac6f-26b31554a7a6",
   "metadata": {},
   "outputs": [],
   "source": []
  }
 ],
 "metadata": {
  "kernelspec": {
   "display_name": "Python [conda env:base] *",
   "language": "python",
   "name": "conda-base-py"
  },
  "language_info": {
   "codemirror_mode": {
    "name": "ipython",
    "version": 3
   },
   "file_extension": ".py",
   "mimetype": "text/x-python",
   "name": "python",
   "nbconvert_exporter": "python",
   "pygments_lexer": "ipython3",
   "version": "3.12.7"
  }
 },
 "nbformat": 4,
 "nbformat_minor": 5
}
