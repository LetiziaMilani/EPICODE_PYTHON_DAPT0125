{
 "cells": [
  {
   "cell_type": "markdown",
   "id": "bf3b414d-d764-47cd-96a1-49f3e71f19d2",
   "metadata": {},
   "source": [
    "Esercizio 1 \n",
    "Abbiamo 25 studenti; memorizzare questo dato in una variabile."
   ]
  },
  {
   "cell_type": "code",
   "execution_count": 2,
   "id": "00361a11-04c5-4a32-999a-0eb2ae07a350",
   "metadata": {},
   "outputs": [],
   "source": [
    "studenti = 25"
   ]
  },
  {
   "cell_type": "markdown",
   "id": "2ab891e6-abc9-4dec-a644-249a42f0745e",
   "metadata": {},
   "source": [
    "Esercizio 2 \n",
    "Abbiamo 25 studenti; memorizzare questo dato in una variabile e stamparla a video."
   ]
  },
  {
   "cell_type": "code",
   "execution_count": 4,
   "id": "ceb441ff-7e24-46da-9948-957d5d3fdc3e",
   "metadata": {},
   "outputs": [
    {
     "name": "stdout",
     "output_type": "stream",
     "text": [
      "25\n"
     ]
    }
   ],
   "source": [
    "studenti = 25\n",
    "print(studenti)"
   ]
  },
  {
   "cell_type": "markdown",
   "id": "faf72bb5-c642-42b2-80e9-5f98aef4eb0f",
   "metadata": {},
   "source": [
    "Esercizio 3\n",
    "Abbiamo 25 studenti; memorizzare questo dato in una variabile. \n",
    "Arrivano altri 3 studenti; memorizzare questo dato in un'altra variabile."
   ]
  },
  {
   "cell_type": "code",
   "execution_count": 6,
   "id": "8703cf1f-bf6f-466a-a5c8-83193b1cf934",
   "metadata": {},
   "outputs": [],
   "source": [
    "studenti = 25\n",
    "studenti_aggiuntivi = 3\n"
   ]
  },
  {
   "cell_type": "markdown",
   "id": "08d72a98-ff3b-445d-8d19-fe8d5c321a3a",
   "metadata": {},
   "source": [
    "Esercizio 4\n",
    "Abbiamo 25 studenti; memorizzare questo dato in una variabile. \n",
    "Arrivano altri 3 studenti; memorizzare questo dato in un'altra variabile. \n",
    "Creare un'altra variabile ancora che conterrà la somma delle prime due, poi stamparla a video."
   ]
  },
  {
   "cell_type": "code",
   "execution_count": 8,
   "id": "a44ac324-1e16-4b44-bcc7-c742cd86cb95",
   "metadata": {},
   "outputs": [
    {
     "name": "stdout",
     "output_type": "stream",
     "text": [
      "28\n"
     ]
    }
   ],
   "source": [
    "studenti = 25\n",
    "studenti_aggiuntivi = 3\n",
    "studenti_totale = studenti + studenti_aggiuntivi\n",
    "print(studenti_totale)"
   ]
  },
  {
   "cell_type": "markdown",
   "id": "14c85294-b62d-4a1f-8f7b-989902233cbb",
   "metadata": {},
   "source": [
    "Esercizio 5\n",
    "Creare una variabile che contiene la stringa \"Epicode\", quindi stamparla a video."
   ]
  },
  {
   "cell_type": "code",
   "execution_count": 10,
   "id": "91d30320-a124-4b50-9b2c-3e74cf970c33",
   "metadata": {},
   "outputs": [
    {
     "name": "stdout",
     "output_type": "stream",
     "text": [
      "Epicode\n"
     ]
    }
   ],
   "source": [
    "stringa = \"Epicode\"\n",
    "print(stringa)"
   ]
  },
  {
   "cell_type": "markdown",
   "id": "4e907d58-d279-4267-91a2-db5dd8db873c",
   "metadata": {},
   "source": [
    "Esercizio 6\n",
    "Abbiamo la variabile: x = 10, incrementarla di 2 e poi moltiplicarla per 3."
   ]
  },
  {
   "cell_type": "code",
   "execution_count": 12,
   "id": "4c076658-7cb4-4488-ba12-fe07ca304926",
   "metadata": {},
   "outputs": [
    {
     "name": "stdout",
     "output_type": "stream",
     "text": [
      "36\n"
     ]
    }
   ],
   "source": [
    "x = 10\n",
    "x = (x+2)*3\n",
    "print(x)\n",
    "\n",
    "#oppure\n",
    "\n",
    "x = 10\n",
    "x_nuovo = x + 2\n",
    "x_finale = x_nuovo * 3\n",
    "print(x_finale)"
   ]
  },
  {
   "cell_type": "markdown",
   "id": "8e7c6dcf-eaaf-4975-b7b1-dfe268c4174c",
   "metadata": {},
   "source": [
    "Esercizio 7\n",
    "Creiamo le seguenti stringhe, e per ognuna di esse verifichiamone la lunghezza:\n",
    "str1 = \"Windows\", str2 = \"Excel\", str3 = \"Powerpoint\", str4 = \"Word\""
   ]
  },
  {
   "cell_type": "code",
   "execution_count": 18,
   "id": "ed388300-3c02-4bce-b12a-6805f354dd62",
   "metadata": {},
   "outputs": [
    {
     "data": {
      "text/plain": [
       "4"
      ]
     },
     "execution_count": 18,
     "metadata": {},
     "output_type": "execute_result"
    }
   ],
   "source": [
    "str1 = \"Windows\"\n",
    "str2 = \"Excel\"\n",
    "str3 = \"Powerpoint\"\n",
    "str4 = \"Word\"\n",
    "\n",
    "len(str1)\n",
    "len(str2)\n",
    "len(str3)\n",
    "len(str4)"
   ]
  },
  {
   "cell_type": "markdown",
   "id": "8a61cede-09ff-49ad-85ce-0eee4b5b891a",
   "metadata": {},
   "source": [
    "Esercizio 8\n",
    "Calcolare e stampare a video quanti secondi ci sono in un anno non bisestile"
   ]
  },
  {
   "cell_type": "code",
   "execution_count": 20,
   "id": "33a3c338-4cf3-42d8-a57b-d7b3d82a1ef7",
   "metadata": {},
   "outputs": [
    {
     "name": "stdout",
     "output_type": "stream",
     "text": [
      "31536000\n"
     ]
    }
   ],
   "source": [
    "sec_minuto = 60\n",
    "sec_ora = sec_minuto * 60\n",
    "sec_giorni = sec_ora * 24\n",
    "sec_anno = 365 * sec_giorni\n",
    "print(sec_anno)"
   ]
  },
  {
   "cell_type": "markdown",
   "id": "0af17e84-78f8-4a07-ae57-1a416a3b3477",
   "metadata": {},
   "source": [
    "Esercizio 9\n",
    "Abbiamo la seguente stringa: my_string = \"I am studying Python\"\n",
    "Trasformarla in modo che tutti i caratteri siano maiuscoli\n",
    "Trasformarla in modo che tutti i caratteri siano minuscoli\n",
    "Sostituire la sottostringa \"Python\" con la stringa \"a lot\"\n",
    "Usare il metodo .strip(); cambia qualcosa? Perché?\n",
    "Usare il metodo .split() per trovare tutte le parole"
   ]
  },
  {
   "cell_type": "code",
   "execution_count": 42,
   "id": "439a83f7-c0eb-4d65-8c78-a5b2fcf37bf0",
   "metadata": {},
   "outputs": [
    {
     "name": "stdout",
     "output_type": "stream",
     "text": [
      "['I am studying Python']\n"
     ]
    }
   ],
   "source": [
    "my_string = \"I am studying Python\"\n",
    "my_string.upper()\n",
    "my_string.lower()\n",
    "my_string.replace(\"Python\", \"a lot\")\n",
    "my_string.strip() #non cambia nulla in quanto la stringa non presenta spazi iniziali e finali\n",
    "my_string.split(\",\")"
   ]
  },
  {
   "cell_type": "markdown",
   "id": "fda2e3e7-c4c6-45d4-9035-628ec0dad3df",
   "metadata": {},
   "source": [
    "Esercizio 10\n",
    "Abbiamo due liste, una di studenti e una di corsi: \n",
    "studenti = [\"Alex\", \"Bob\", \"Cindy\", \"Dan\", \"Emma\", \"Faith\", \"Grace\", \"Henry\"] \n",
    "corsi = [\"Cybersecurity\", \"Data Analyst\", \"Backend\", \"Frontend\", \"Data Analyst\", \"Backend\"]\n",
    "Tenendo conto che i dati sono in corrispondenza posizionale, leggiamo con attenzione le due liste. \n",
    "Sapendo che: Emma segue Data Analyst, Faith segue Backend, Grace segue Frontend, Henry segue Cybersecurity.\n",
    "Alla lista cui mancano dei dati, aggiungiamo i dati mancanti uno alla volta"
   ]
  },
  {
   "cell_type": "code",
   "execution_count": 53,
   "id": "ecd2eb17-034f-4a66-a70e-1320d64a8021",
   "metadata": {},
   "outputs": [
    {
     "name": "stdout",
     "output_type": "stream",
     "text": [
      "['Cybersecurity', 'Data Analyst', 'Backend', 'Frontend', 'Data Analyst', 'Backend', 'Frontend', 'Cybersecurity']\n"
     ]
    }
   ],
   "source": [
    "studenti = [\"Alex\", \"Bob\", \"Cindy\", \"Dan\", \"Emma\", \"Faith\", \"Grace\", \"Henry\"] \n",
    "corsi = [\"Cybersecurity\", \"Data Analyst\", \"Backend\", \"Frontend\", \"Data Analyst\", \"Backend\"]\n",
    "\n",
    "corsi.append(\"Frontend\")\n",
    "corsi.append(\"Cybersecurity\")\n",
    "print(corsi)\n",
    "\n"
   ]
  }
 ],
 "metadata": {
  "kernelspec": {
   "display_name": "Python [conda env:base] *",
   "language": "python",
   "name": "conda-base-py"
  },
  "language_info": {
   "codemirror_mode": {
    "name": "ipython",
    "version": 3
   },
   "file_extension": ".py",
   "mimetype": "text/x-python",
   "name": "python",
   "nbconvert_exporter": "python",
   "pygments_lexer": "ipython3",
   "version": "3.12.3"
  }
 },
 "nbformat": 4,
 "nbformat_minor": 5
}
